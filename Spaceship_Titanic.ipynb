{
 "cells": [
  {
   "cell_type": "code",
   "execution_count": 1,
   "id": "2142d8c9",
   "metadata": {},
   "outputs": [
    {
     "data": {
      "text/plain": [
       "\"\\nPassengerId - A unique Id for each passenger. Each Id takes the form gggg_pp where gggg indicates a group \\nthe passenger is travelling with and pp is their number within the group. People in a group are often family members, \\nbut not always.\\n\\nHomePlanet - The planet the passenger departed from, typically their planet of permanent residence.\\n\\nCryoSleep - Indicates whether the passenger elected to be put into suspended animation for the duration of the \\nvoyage. Passengers in cryosleep are confined to their cabins.\\n\\nCabin - The cabin number where the passenger is staying. Takes the form deck/num/side, where side can be either P \\nfor Port or S for Starboard.\\n\\nDestination - The planet the passenger will be debarking to.\\n\\nAge - The age of the passenger.\\n\\nVIP - Whether the passenger has paid for special VIP service during the voyage.\\n\\nRoomService, FoodCourt, ShoppingMall, Spa, VRDeck - Amount the passenger has billed at each of the Spaceship \\nTitanic's many luxury amenities.\\n\\nName - The first and last names of the passenger.\\n\\nTransported - Whether the passenger was transported to another dimension. This is the target, the column you are \\ntrying to predict.\\n\""
      ]
     },
     "execution_count": 1,
     "metadata": {},
     "output_type": "execute_result"
    }
   ],
   "source": [
    "'''\n",
    "PassengerId - A unique Id for each passenger. Each Id takes the form gggg_pp where gggg indicates a group \n",
    "the passenger is travelling with and pp is their number within the group. People in a group are often family members, \n",
    "but not always.\n",
    "\n",
    "HomePlanet - The planet the passenger departed from, typically their planet of permanent residence.\n",
    "\n",
    "CryoSleep - Indicates whether the passenger elected to be put into suspended animation for the duration of the \n",
    "voyage. Passengers in cryosleep are confined to their cabins.\n",
    "\n",
    "Cabin - The cabin number where the passenger is staying. Takes the form deck/num/side, where side can be either P \n",
    "for Port or S for Starboard.\n",
    "\n",
    "Destination - The planet the passenger will be debarking to.\n",
    "\n",
    "Age - The age of the passenger.\n",
    "\n",
    "VIP - Whether the passenger has paid for special VIP service during the voyage.\n",
    "\n",
    "RoomService, FoodCourt, ShoppingMall, Spa, VRDeck - Amount the passenger has billed at each of the Spaceship \n",
    "Titanic's many luxury amenities.\n",
    "\n",
    "Name - The first and last names of the passenger.\n",
    "\n",
    "Transported - Whether the passenger was transported to another dimension. This is the target, the column you are \n",
    "trying to predict.\n",
    "'''"
   ]
  },
  {
   "cell_type": "code",
   "execution_count": 2,
   "id": "b45342b1",
   "metadata": {},
   "outputs": [],
   "source": [
    "# Import Dependencies for Download and Clean\n",
    "# run in terminal to use bigquery  \"pip install --upgrade google-cloud-bigquery\"\n",
    "import pandas as pd\n",
    "from google.cloud import bigquery\n",
    "from google.oauth2 import service_account\n",
    "credentials = service_account.Credentials.from_service_account_file(\n",
    "'/Users/spicious/Desktop/News Datasets/Resources/spaceship-titanic-387720-729aac731f9f.json')"
   ]
  },
  {
   "cell_type": "code",
   "execution_count": 3,
   "id": "ac5637af",
   "metadata": {},
   "outputs": [],
   "source": [
    "# Import Dependencies for Random Forest Model\n",
    "from pathlib import Path\n",
    "from sklearn.ensemble import RandomForestClassifier\n",
    "from sklearn.preprocessing import StandardScaler\n",
    "from sklearn.model_selection import train_test_split\n",
    "from sklearn.metrics import confusion_matrix, accuracy_score, classification_report"
   ]
  },
  {
   "cell_type": "code",
   "execution_count": 4,
   "id": "3ee45fc5",
   "metadata": {},
   "outputs": [],
   "source": [
    "# Import for Data Imputation\n",
    "from scipy import stats\n",
    "import numpy as np\n",
    "from sklearn import impute"
   ]
  },
  {
   "cell_type": "code",
   "execution_count": 5,
   "id": "7be2abf1",
   "metadata": {},
   "outputs": [],
   "source": [
    "project_id = 'spaceship-titanic-387720'\n",
    "client = bigquery.Client(credentials= credentials,project=project_id)"
   ]
  },
  {
   "cell_type": "code",
   "execution_count": 6,
   "id": "7373958b",
   "metadata": {},
   "outputs": [],
   "source": [
    "query_Amenities = client.query(\"\"\"\n",
    "   SELECT *\n",
    "   FROM Starship_Titanic.Amenities\"\"\")\n",
    "\n",
    "query_PassengerInfo = client.query(\"\"\"\n",
    "   SELECT *\n",
    "   FROM Starship_Titanic.PassengerInfo\"\"\")\n",
    "\n",
    "query_PlanetInfo = client.query(\"\"\"\n",
    "   SELECT *\n",
    "   FROM Starship_Titanic.Planet\"\"\")\n",
    "\n",
    "results_Amenities = query_Amenities.result()\n",
    "results_PassengerInfo = query_PassengerInfo.result()\n",
    "results_PlanetInfo = query_PlanetInfo.result()\n",
    "\n",
    "Amenities_df = pd.DataFrame(results_Amenities)\n",
    "PassengerInfo_df = pd.DataFrame(results_PassengerInfo)\n",
    "PlanetInfo_df = pd.DataFrame(results_PlanetInfo)"
   ]
  },
  {
   "cell_type": "code",
   "execution_count": 7,
   "id": "1f283cb4",
   "metadata": {},
   "outputs": [
    {
     "name": "stdout",
     "output_type": "stream",
     "text": [
      "Row(('4446_05', 'B/175/S', False, 0.0, 4017.0, None, None, 2260.0), {'PassengerId': 0, 'Cabin': 1, 'VIP': 2, 'RoomService': 3, 'FoodCourt': 4, 'ShoppingMall': 5, 'Spa': 6, 'VRDeck': 7})\n",
      "Row(('6512_02', 'Photons Drivery', None, 'A/80/S', None, True), {'PassengerId': 0, 'Name': 1, 'HomePlanet': 2, 'Cabin': 3, 'Age': 4, 'Transported': 5})\n",
      "Row(('3896_01', None, '55 Cancri e', None), {'PassengerId': 0, 'HomePlanet': 1, 'Destination': 2, 'CryoSleep': 3})\n"
     ]
    }
   ],
   "source": [
    "print(Amenities_df.loc[0][0])\n",
    "print(PassengerInfo_df.loc[0][0])\n",
    "print(PlanetInfo_df.loc[0][0])"
   ]
  },
  {
   "cell_type": "code",
   "execution_count": 8,
   "id": "0c351285",
   "metadata": {},
   "outputs": [],
   "source": [
    "Amenities_sorted = pd.DataFrame()\n",
    "i = 0\n",
    "while i < 8:\n",
    "    Amenities_sorted[i] = Amenities_df[0].apply(lambda x: x[i])\n",
    "    i += 1\n",
    "\n",
    "Amenities_sorted = Amenities_sorted.rename(columns={0: \"PassengerId\", \n",
    "                   1: \"Cabin\", \n",
    "                   2: \"VIP\", \n",
    "                   3: \"RoomService\",\n",
    "                   4: \"FoodCourt\",\n",
    "                   5: \"ShoppingMall\",\n",
    "                   6: \"Spa\",\n",
    "                   7: \"VRDeck\"})"
   ]
  },
  {
   "cell_type": "code",
   "execution_count": 9,
   "id": "f7ad73a8",
   "metadata": {},
   "outputs": [
    {
     "data": {
      "text/html": [
       "<div>\n",
       "<style scoped>\n",
       "    .dataframe tbody tr th:only-of-type {\n",
       "        vertical-align: middle;\n",
       "    }\n",
       "\n",
       "    .dataframe tbody tr th {\n",
       "        vertical-align: top;\n",
       "    }\n",
       "\n",
       "    .dataframe thead th {\n",
       "        text-align: right;\n",
       "    }\n",
       "</style>\n",
       "<table border=\"1\" class=\"dataframe\">\n",
       "  <thead>\n",
       "    <tr style=\"text-align: right;\">\n",
       "      <th></th>\n",
       "      <th>PassengerId</th>\n",
       "      <th>Cabin</th>\n",
       "      <th>VIP</th>\n",
       "      <th>RoomService</th>\n",
       "      <th>FoodCourt</th>\n",
       "      <th>ShoppingMall</th>\n",
       "      <th>Spa</th>\n",
       "      <th>VRDeck</th>\n",
       "    </tr>\n",
       "  </thead>\n",
       "  <tbody>\n",
       "    <tr>\n",
       "      <th>0</th>\n",
       "      <td>4446_05</td>\n",
       "      <td>B/175/S</td>\n",
       "      <td>False</td>\n",
       "      <td>0.0</td>\n",
       "      <td>4017.0</td>\n",
       "      <td>NaN</td>\n",
       "      <td>NaN</td>\n",
       "      <td>2260.0</td>\n",
       "    </tr>\n",
       "    <tr>\n",
       "      <th>1</th>\n",
       "      <td>8906_01</td>\n",
       "      <td>F/1723/S</td>\n",
       "      <td>False</td>\n",
       "      <td>720.0</td>\n",
       "      <td>2.0</td>\n",
       "      <td>NaN</td>\n",
       "      <td>NaN</td>\n",
       "      <td>0.0</td>\n",
       "    </tr>\n",
       "    <tr>\n",
       "      <th>2</th>\n",
       "      <td>2122_01</td>\n",
       "      <td>E/154/S</td>\n",
       "      <td>False</td>\n",
       "      <td>0.0</td>\n",
       "      <td>618.0</td>\n",
       "      <td>NaN</td>\n",
       "      <td>NaN</td>\n",
       "      <td>0.0</td>\n",
       "    </tr>\n",
       "    <tr>\n",
       "      <th>3</th>\n",
       "      <td>3008_01</td>\n",
       "      <td>D/92/P</td>\n",
       "      <td>False</td>\n",
       "      <td>0.0</td>\n",
       "      <td>0.0</td>\n",
       "      <td>NaN</td>\n",
       "      <td>NaN</td>\n",
       "      <td>0.0</td>\n",
       "    </tr>\n",
       "    <tr>\n",
       "      <th>4</th>\n",
       "      <td>0008_02</td>\n",
       "      <td>B/1/P</td>\n",
       "      <td>False</td>\n",
       "      <td>0.0</td>\n",
       "      <td>0.0</td>\n",
       "      <td>NaN</td>\n",
       "      <td>0.0</td>\n",
       "      <td>0.0</td>\n",
       "    </tr>\n",
       "    <tr>\n",
       "      <th>...</th>\n",
       "      <td>...</td>\n",
       "      <td>...</td>\n",
       "      <td>...</td>\n",
       "      <td>...</td>\n",
       "      <td>...</td>\n",
       "      <td>...</td>\n",
       "      <td>...</td>\n",
       "      <td>...</td>\n",
       "    </tr>\n",
       "    <tr>\n",
       "      <th>12965</th>\n",
       "      <td>2289_01</td>\n",
       "      <td>F/465/P</td>\n",
       "      <td>False</td>\n",
       "      <td>20.0</td>\n",
       "      <td>0.0</td>\n",
       "      <td>2559.0</td>\n",
       "      <td>20.0</td>\n",
       "      <td>0.0</td>\n",
       "    </tr>\n",
       "    <tr>\n",
       "      <th>12966</th>\n",
       "      <td>3567_01</td>\n",
       "      <td>F/739/P</td>\n",
       "      <td>False</td>\n",
       "      <td>0.0</td>\n",
       "      <td>0.0</td>\n",
       "      <td>2687.0</td>\n",
       "      <td>35.0</td>\n",
       "      <td>340.0</td>\n",
       "    </tr>\n",
       "    <tr>\n",
       "      <th>12967</th>\n",
       "      <td>4012_01</td>\n",
       "      <td>B/153/S</td>\n",
       "      <td>False</td>\n",
       "      <td>0.0</td>\n",
       "      <td>7000.0</td>\n",
       "      <td>8251.0</td>\n",
       "      <td>1523.0</td>\n",
       "      <td>0.0</td>\n",
       "    </tr>\n",
       "    <tr>\n",
       "      <th>12968</th>\n",
       "      <td>7941_01</td>\n",
       "      <td>C/257/P</td>\n",
       "      <td>False</td>\n",
       "      <td>0.0</td>\n",
       "      <td>116.0</td>\n",
       "      <td>10705.0</td>\n",
       "      <td>9181.0</td>\n",
       "      <td>10.0</td>\n",
       "    </tr>\n",
       "    <tr>\n",
       "      <th>12969</th>\n",
       "      <td>6583_01</td>\n",
       "      <td>B/254/S</td>\n",
       "      <td>False</td>\n",
       "      <td>0.0</td>\n",
       "      <td>100.0</td>\n",
       "      <td>12253.0</td>\n",
       "      <td>6.0</td>\n",
       "      <td>80.0</td>\n",
       "    </tr>\n",
       "  </tbody>\n",
       "</table>\n",
       "<p>12970 rows × 8 columns</p>\n",
       "</div>"
      ],
      "text/plain": [
       "      PassengerId     Cabin    VIP  RoomService  FoodCourt  ShoppingMall  \\\n",
       "0         4446_05   B/175/S  False          0.0     4017.0           NaN   \n",
       "1         8906_01  F/1723/S  False        720.0        2.0           NaN   \n",
       "2         2122_01   E/154/S  False          0.0      618.0           NaN   \n",
       "3         3008_01    D/92/P  False          0.0        0.0           NaN   \n",
       "4         0008_02     B/1/P  False          0.0        0.0           NaN   \n",
       "...           ...       ...    ...          ...        ...           ...   \n",
       "12965     2289_01   F/465/P  False         20.0        0.0        2559.0   \n",
       "12966     3567_01   F/739/P  False          0.0        0.0        2687.0   \n",
       "12967     4012_01   B/153/S  False          0.0     7000.0        8251.0   \n",
       "12968     7941_01   C/257/P  False          0.0      116.0       10705.0   \n",
       "12969     6583_01   B/254/S  False          0.0      100.0       12253.0   \n",
       "\n",
       "          Spa  VRDeck  \n",
       "0         NaN  2260.0  \n",
       "1         NaN     0.0  \n",
       "2         NaN     0.0  \n",
       "3         NaN     0.0  \n",
       "4         0.0     0.0  \n",
       "...       ...     ...  \n",
       "12965    20.0     0.0  \n",
       "12966    35.0   340.0  \n",
       "12967  1523.0     0.0  \n",
       "12968  9181.0    10.0  \n",
       "12969     6.0    80.0  \n",
       "\n",
       "[12970 rows x 8 columns]"
      ]
     },
     "execution_count": 9,
     "metadata": {},
     "output_type": "execute_result"
    }
   ],
   "source": [
    "Amenities_sorted"
   ]
  },
  {
   "cell_type": "code",
   "execution_count": 10,
   "id": "7ceb7e37",
   "metadata": {},
   "outputs": [],
   "source": [
    "PassengerInfo_sorted = pd.DataFrame()\n",
    "i = 0\n",
    "while i < 6:\n",
    "    PassengerInfo_sorted[i] = PassengerInfo_df[0].apply(lambda x: x[i])\n",
    "    i += 1\n",
    "    \n",
    "PassengerInfo_sorted = PassengerInfo_sorted.rename(columns={0: \"PassengerId\", \n",
    "                   1: \"Name\", \n",
    "                   2: \"HomePlanet\", \n",
    "                   3: \"Cabin\",\n",
    "                   4: \"Age\",\n",
    "                   5: \"Transported\"})"
   ]
  },
  {
   "cell_type": "code",
   "execution_count": 11,
   "id": "bef1a117",
   "metadata": {},
   "outputs": [
    {
     "data": {
      "text/html": [
       "<div>\n",
       "<style scoped>\n",
       "    .dataframe tbody tr th:only-of-type {\n",
       "        vertical-align: middle;\n",
       "    }\n",
       "\n",
       "    .dataframe tbody tr th {\n",
       "        vertical-align: top;\n",
       "    }\n",
       "\n",
       "    .dataframe thead th {\n",
       "        text-align: right;\n",
       "    }\n",
       "</style>\n",
       "<table border=\"1\" class=\"dataframe\">\n",
       "  <thead>\n",
       "    <tr style=\"text-align: right;\">\n",
       "      <th></th>\n",
       "      <th>PassengerId</th>\n",
       "      <th>Name</th>\n",
       "      <th>HomePlanet</th>\n",
       "      <th>Cabin</th>\n",
       "      <th>Age</th>\n",
       "      <th>Transported</th>\n",
       "    </tr>\n",
       "  </thead>\n",
       "  <tbody>\n",
       "    <tr>\n",
       "      <th>0</th>\n",
       "      <td>6512_02</td>\n",
       "      <td>Photons Drivery</td>\n",
       "      <td>None</td>\n",
       "      <td>A/80/S</td>\n",
       "      <td>NaN</td>\n",
       "      <td>True</td>\n",
       "    </tr>\n",
       "    <tr>\n",
       "      <th>1</th>\n",
       "      <td>8202_03</td>\n",
       "      <td>Charga Unkcatted</td>\n",
       "      <td>None</td>\n",
       "      <td>C/306/S</td>\n",
       "      <td>NaN</td>\n",
       "      <td>True</td>\n",
       "    </tr>\n",
       "    <tr>\n",
       "      <th>2</th>\n",
       "      <td>1050_01</td>\n",
       "      <td>Evendy Buchansen</td>\n",
       "      <td>None</td>\n",
       "      <td>G/157/P</td>\n",
       "      <td>NaN</td>\n",
       "      <td>None</td>\n",
       "    </tr>\n",
       "    <tr>\n",
       "      <th>3</th>\n",
       "      <td>6081_01</td>\n",
       "      <td>Ecco Shpie</td>\n",
       "      <td>None</td>\n",
       "      <td>F/1256/P</td>\n",
       "      <td>NaN</td>\n",
       "      <td>None</td>\n",
       "    </tr>\n",
       "    <tr>\n",
       "      <th>4</th>\n",
       "      <td>6550_01</td>\n",
       "      <td>Grumak Porkilte</td>\n",
       "      <td>None</td>\n",
       "      <td>B/252/S</td>\n",
       "      <td>NaN</td>\n",
       "      <td>None</td>\n",
       "    </tr>\n",
       "    <tr>\n",
       "      <th>...</th>\n",
       "      <td>...</td>\n",
       "      <td>...</td>\n",
       "      <td>...</td>\n",
       "      <td>...</td>\n",
       "      <td>...</td>\n",
       "      <td>...</td>\n",
       "    </tr>\n",
       "    <tr>\n",
       "      <th>12965</th>\n",
       "      <td>0818_01</td>\n",
       "      <td>Ksorab Couseced</td>\n",
       "      <td>Europa</td>\n",
       "      <td>B/29/S</td>\n",
       "      <td>71.0</td>\n",
       "      <td>True</td>\n",
       "    </tr>\n",
       "    <tr>\n",
       "      <th>12966</th>\n",
       "      <td>1502_04</td>\n",
       "      <td>Hadaton Donotaked</td>\n",
       "      <td>Europa</td>\n",
       "      <td>C/54/P</td>\n",
       "      <td>71.0</td>\n",
       "      <td>None</td>\n",
       "    </tr>\n",
       "    <tr>\n",
       "      <th>12967</th>\n",
       "      <td>1131_01</td>\n",
       "      <td>Mizark Comessic</td>\n",
       "      <td>Europa</td>\n",
       "      <td>B/44/S</td>\n",
       "      <td>75.0</td>\n",
       "      <td>None</td>\n",
       "    </tr>\n",
       "    <tr>\n",
       "      <th>12968</th>\n",
       "      <td>0378_03</td>\n",
       "      <td>Naslon Pirejus</td>\n",
       "      <td>Europa</td>\n",
       "      <td>B/11/S</td>\n",
       "      <td>79.0</td>\n",
       "      <td>False</td>\n",
       "    </tr>\n",
       "    <tr>\n",
       "      <th>12969</th>\n",
       "      <td>0642_03</td>\n",
       "      <td>Chabik Kiling</td>\n",
       "      <td>Europa</td>\n",
       "      <td>C/25/S</td>\n",
       "      <td>79.0</td>\n",
       "      <td>False</td>\n",
       "    </tr>\n",
       "  </tbody>\n",
       "</table>\n",
       "<p>12970 rows × 6 columns</p>\n",
       "</div>"
      ],
      "text/plain": [
       "      PassengerId               Name HomePlanet     Cabin   Age Transported\n",
       "0         6512_02    Photons Drivery       None    A/80/S   NaN        True\n",
       "1         8202_03   Charga Unkcatted       None   C/306/S   NaN        True\n",
       "2         1050_01   Evendy Buchansen       None   G/157/P   NaN        None\n",
       "3         6081_01         Ecco Shpie       None  F/1256/P   NaN        None\n",
       "4         6550_01    Grumak Porkilte       None   B/252/S   NaN        None\n",
       "...           ...                ...        ...       ...   ...         ...\n",
       "12965     0818_01    Ksorab Couseced     Europa    B/29/S  71.0        True\n",
       "12966     1502_04  Hadaton Donotaked     Europa    C/54/P  71.0        None\n",
       "12967     1131_01    Mizark Comessic     Europa    B/44/S  75.0        None\n",
       "12968     0378_03     Naslon Pirejus     Europa    B/11/S  79.0       False\n",
       "12969     0642_03      Chabik Kiling     Europa    C/25/S  79.0       False\n",
       "\n",
       "[12970 rows x 6 columns]"
      ]
     },
     "execution_count": 11,
     "metadata": {},
     "output_type": "execute_result"
    }
   ],
   "source": [
    "PassengerInfo_sorted"
   ]
  },
  {
   "cell_type": "code",
   "execution_count": 12,
   "id": "f240c7b6",
   "metadata": {},
   "outputs": [],
   "source": [
    "PlanetInfo_sorted = pd.DataFrame()\n",
    "i = 0\n",
    "while i < 4:\n",
    "    PlanetInfo_sorted[i] = PlanetInfo_df[0].apply(lambda x: x[i])\n",
    "    i += 1\n",
    "    \n",
    "PlanetInfo_sorted = PlanetInfo_sorted.rename(columns={0: \"PassengerId\", \n",
    "                   1: \"HomePlanet\", \n",
    "                   2: \"Destination\", \n",
    "                   3: \"CryoSleep\"})"
   ]
  },
  {
   "cell_type": "code",
   "execution_count": 13,
   "id": "797c8a37",
   "metadata": {},
   "outputs": [
    {
     "data": {
      "text/html": [
       "<div>\n",
       "<style scoped>\n",
       "    .dataframe tbody tr th:only-of-type {\n",
       "        vertical-align: middle;\n",
       "    }\n",
       "\n",
       "    .dataframe tbody tr th {\n",
       "        vertical-align: top;\n",
       "    }\n",
       "\n",
       "    .dataframe thead th {\n",
       "        text-align: right;\n",
       "    }\n",
       "</style>\n",
       "<table border=\"1\" class=\"dataframe\">\n",
       "  <thead>\n",
       "    <tr style=\"text-align: right;\">\n",
       "      <th></th>\n",
       "      <th>PassengerId</th>\n",
       "      <th>HomePlanet</th>\n",
       "      <th>Destination</th>\n",
       "      <th>CryoSleep</th>\n",
       "    </tr>\n",
       "  </thead>\n",
       "  <tbody>\n",
       "    <tr>\n",
       "      <th>0</th>\n",
       "      <td>3896_01</td>\n",
       "      <td>None</td>\n",
       "      <td>55 Cancri e</td>\n",
       "      <td>None</td>\n",
       "    </tr>\n",
       "    <tr>\n",
       "      <th>1</th>\n",
       "      <td>7711_01</td>\n",
       "      <td>None</td>\n",
       "      <td>TRAPPIST-1e</td>\n",
       "      <td>None</td>\n",
       "    </tr>\n",
       "    <tr>\n",
       "      <th>2</th>\n",
       "      <td>4420_01</td>\n",
       "      <td>None</td>\n",
       "      <td>TRAPPIST-1e</td>\n",
       "      <td>None</td>\n",
       "    </tr>\n",
       "    <tr>\n",
       "      <th>3</th>\n",
       "      <td>4984_02</td>\n",
       "      <td>None</td>\n",
       "      <td>PSO J318.5-22</td>\n",
       "      <td>None</td>\n",
       "    </tr>\n",
       "    <tr>\n",
       "      <th>4</th>\n",
       "      <td>8435_01</td>\n",
       "      <td>None</td>\n",
       "      <td>TRAPPIST-1e</td>\n",
       "      <td>None</td>\n",
       "    </tr>\n",
       "    <tr>\n",
       "      <th>...</th>\n",
       "      <td>...</td>\n",
       "      <td>...</td>\n",
       "      <td>...</td>\n",
       "      <td>...</td>\n",
       "    </tr>\n",
       "    <tr>\n",
       "      <th>12965</th>\n",
       "      <td>9166_01</td>\n",
       "      <td>Europa</td>\n",
       "      <td>55 Cancri e</td>\n",
       "      <td>True</td>\n",
       "    </tr>\n",
       "    <tr>\n",
       "      <th>12966</th>\n",
       "      <td>9177_01</td>\n",
       "      <td>Europa</td>\n",
       "      <td>55 Cancri e</td>\n",
       "      <td>True</td>\n",
       "    </tr>\n",
       "    <tr>\n",
       "      <th>12967</th>\n",
       "      <td>9177_02</td>\n",
       "      <td>Europa</td>\n",
       "      <td>55 Cancri e</td>\n",
       "      <td>True</td>\n",
       "    </tr>\n",
       "    <tr>\n",
       "      <th>12968</th>\n",
       "      <td>9215_01</td>\n",
       "      <td>Europa</td>\n",
       "      <td>TRAPPIST-1e</td>\n",
       "      <td>True</td>\n",
       "    </tr>\n",
       "    <tr>\n",
       "      <th>12969</th>\n",
       "      <td>9258_01</td>\n",
       "      <td>Europa</td>\n",
       "      <td>TRAPPIST-1e</td>\n",
       "      <td>True</td>\n",
       "    </tr>\n",
       "  </tbody>\n",
       "</table>\n",
       "<p>12970 rows × 4 columns</p>\n",
       "</div>"
      ],
      "text/plain": [
       "      PassengerId HomePlanet    Destination CryoSleep\n",
       "0         3896_01       None    55 Cancri e      None\n",
       "1         7711_01       None    TRAPPIST-1e      None\n",
       "2         4420_01       None    TRAPPIST-1e      None\n",
       "3         4984_02       None  PSO J318.5-22      None\n",
       "4         8435_01       None    TRAPPIST-1e      None\n",
       "...           ...        ...            ...       ...\n",
       "12965     9166_01     Europa    55 Cancri e      True\n",
       "12966     9177_01     Europa    55 Cancri e      True\n",
       "12967     9177_02     Europa    55 Cancri e      True\n",
       "12968     9215_01     Europa    TRAPPIST-1e      True\n",
       "12969     9258_01     Europa    TRAPPIST-1e      True\n",
       "\n",
       "[12970 rows x 4 columns]"
      ]
     },
     "execution_count": 13,
     "metadata": {},
     "output_type": "execute_result"
    }
   ],
   "source": [
    "PlanetInfo_sorted"
   ]
  },
  {
   "cell_type": "code",
   "execution_count": 14,
   "id": "b18520b4",
   "metadata": {},
   "outputs": [],
   "source": [
    "# Merging tables\n",
    "merge_df = pd.merge(Amenities_sorted, PassengerInfo_sorted, on = 'PassengerId', how = 'inner')\n",
    "df = pd.merge(merge_df, PlanetInfo_sorted, on = 'PassengerId', how = 'inner')"
   ]
  },
  {
   "cell_type": "code",
   "execution_count": 15,
   "id": "a7d9db12",
   "metadata": {},
   "outputs": [],
   "source": [
    "# Cleaning up Column Duplications\n",
    "df = df.drop(['Cabin_y', 'HomePlanet_y'], axis=1)"
   ]
  },
  {
   "cell_type": "code",
   "execution_count": 16,
   "id": "1af1693d",
   "metadata": {},
   "outputs": [],
   "source": [
    "# Renaming Columns\n",
    "df = df.rename(columns={'Cabin_x': \"Cabin\", \n",
    "                   'HomePlanet_x': \"HomePlanet\"})"
   ]
  },
  {
   "cell_type": "code",
   "execution_count": 17,
   "id": "4ce35e3f",
   "metadata": {},
   "outputs": [
    {
     "data": {
      "text/plain": [
       "True     4378\n",
       "False    4315\n",
       "Name: Transported, dtype: int64"
      ]
     },
     "execution_count": 17,
     "metadata": {},
     "output_type": "execute_result"
    }
   ],
   "source": [
    "df[\"Transported\"].value_counts()"
   ]
  },
  {
   "cell_type": "code",
   "execution_count": 18,
   "id": "e5f11af0",
   "metadata": {},
   "outputs": [],
   "source": [
    "# Drop all rows with missing null's in the training data column\n",
    "df.dropna(subset = ['Transported'], inplace=True)"
   ]
  },
  {
   "cell_type": "code",
   "execution_count": null,
   "id": "9b612e12",
   "metadata": {},
   "outputs": [],
   "source": []
  },
  {
   "cell_type": "code",
   "execution_count": 19,
   "id": "381e5e2a",
   "metadata": {},
   "outputs": [
    {
     "name": "stdout",
     "output_type": "stream",
     "text": [
      "(8693, 14)\n"
     ]
    },
    {
     "data": {
      "text/html": [
       "<div>\n",
       "<style scoped>\n",
       "    .dataframe tbody tr th:only-of-type {\n",
       "        vertical-align: middle;\n",
       "    }\n",
       "\n",
       "    .dataframe tbody tr th {\n",
       "        vertical-align: top;\n",
       "    }\n",
       "\n",
       "    .dataframe thead th {\n",
       "        text-align: right;\n",
       "    }\n",
       "</style>\n",
       "<table border=\"1\" class=\"dataframe\">\n",
       "  <thead>\n",
       "    <tr style=\"text-align: right;\">\n",
       "      <th></th>\n",
       "      <th>PassengerId</th>\n",
       "      <th>Cabin</th>\n",
       "      <th>VIP</th>\n",
       "      <th>RoomService</th>\n",
       "      <th>FoodCourt</th>\n",
       "      <th>ShoppingMall</th>\n",
       "      <th>Spa</th>\n",
       "      <th>VRDeck</th>\n",
       "      <th>Name</th>\n",
       "      <th>HomePlanet</th>\n",
       "      <th>Age</th>\n",
       "      <th>Transported</th>\n",
       "      <th>Destination</th>\n",
       "      <th>CryoSleep</th>\n",
       "    </tr>\n",
       "  </thead>\n",
       "  <tbody>\n",
       "    <tr>\n",
       "      <th>0</th>\n",
       "      <td>4446_05</td>\n",
       "      <td>B/175/S</td>\n",
       "      <td>False</td>\n",
       "      <td>0.0</td>\n",
       "      <td>4017.0</td>\n",
       "      <td>NaN</td>\n",
       "      <td>NaN</td>\n",
       "      <td>2260.0</td>\n",
       "      <td>Phah Chocaters</td>\n",
       "      <td>Europa</td>\n",
       "      <td>33.0</td>\n",
       "      <td>True</td>\n",
       "      <td>TRAPPIST-1e</td>\n",
       "      <td>None</td>\n",
       "    </tr>\n",
       "    <tr>\n",
       "      <th>1</th>\n",
       "      <td>8906_01</td>\n",
       "      <td>F/1723/S</td>\n",
       "      <td>False</td>\n",
       "      <td>720.0</td>\n",
       "      <td>2.0</td>\n",
       "      <td>NaN</td>\n",
       "      <td>NaN</td>\n",
       "      <td>0.0</td>\n",
       "      <td>Rena Gainney</td>\n",
       "      <td>Earth</td>\n",
       "      <td>19.0</td>\n",
       "      <td>False</td>\n",
       "      <td>55 Cancri e</td>\n",
       "      <td>False</td>\n",
       "    </tr>\n",
       "    <tr>\n",
       "      <th>4</th>\n",
       "      <td>0008_02</td>\n",
       "      <td>B/1/P</td>\n",
       "      <td>False</td>\n",
       "      <td>0.0</td>\n",
       "      <td>0.0</td>\n",
       "      <td>NaN</td>\n",
       "      <td>0.0</td>\n",
       "      <td>0.0</td>\n",
       "      <td>Altardr Flatic</td>\n",
       "      <td>Europa</td>\n",
       "      <td>34.0</td>\n",
       "      <td>True</td>\n",
       "      <td>TRAPPIST-1e</td>\n",
       "      <td>True</td>\n",
       "    </tr>\n",
       "    <tr>\n",
       "      <th>5</th>\n",
       "      <td>0014_01</td>\n",
       "      <td>F/3/P</td>\n",
       "      <td>False</td>\n",
       "      <td>1286.0</td>\n",
       "      <td>122.0</td>\n",
       "      <td>NaN</td>\n",
       "      <td>0.0</td>\n",
       "      <td>0.0</td>\n",
       "      <td>Flats Eccle</td>\n",
       "      <td>Mars</td>\n",
       "      <td>27.0</td>\n",
       "      <td>False</td>\n",
       "      <td>55 Cancri e</td>\n",
       "      <td>False</td>\n",
       "    </tr>\n",
       "    <tr>\n",
       "      <th>6</th>\n",
       "      <td>0020_03</td>\n",
       "      <td>E/0/S</td>\n",
       "      <td>False</td>\n",
       "      <td>0.0</td>\n",
       "      <td>0.0</td>\n",
       "      <td>NaN</td>\n",
       "      <td>0.0</td>\n",
       "      <td>0.0</td>\n",
       "      <td>Mollen Mcfaddennon</td>\n",
       "      <td>Earth</td>\n",
       "      <td>29.0</td>\n",
       "      <td>False</td>\n",
       "      <td>55 Cancri e</td>\n",
       "      <td>True</td>\n",
       "    </tr>\n",
       "  </tbody>\n",
       "</table>\n",
       "</div>"
      ],
      "text/plain": [
       "  PassengerId     Cabin    VIP  RoomService  FoodCourt  ShoppingMall  Spa  \\\n",
       "0     4446_05   B/175/S  False          0.0     4017.0           NaN  NaN   \n",
       "1     8906_01  F/1723/S  False        720.0        2.0           NaN  NaN   \n",
       "4     0008_02     B/1/P  False          0.0        0.0           NaN  0.0   \n",
       "5     0014_01     F/3/P  False       1286.0      122.0           NaN  0.0   \n",
       "6     0020_03     E/0/S  False          0.0        0.0           NaN  0.0   \n",
       "\n",
       "   VRDeck                Name HomePlanet   Age Transported  Destination  \\\n",
       "0  2260.0      Phah Chocaters     Europa  33.0        True  TRAPPIST-1e   \n",
       "1     0.0        Rena Gainney      Earth  19.0       False  55 Cancri e   \n",
       "4     0.0      Altardr Flatic     Europa  34.0        True  TRAPPIST-1e   \n",
       "5     0.0         Flats Eccle       Mars  27.0       False  55 Cancri e   \n",
       "6     0.0  Mollen Mcfaddennon      Earth  29.0       False  55 Cancri e   \n",
       "\n",
       "  CryoSleep  \n",
       "0      None  \n",
       "1     False  \n",
       "4      True  \n",
       "5     False  \n",
       "6      True  "
      ]
     },
     "execution_count": 19,
     "metadata": {},
     "output_type": "execute_result"
    }
   ],
   "source": [
    "#check dataframe\n",
    "print(df.shape)\n",
    "df.head(5)"
   ]
  },
  {
   "cell_type": "code",
   "execution_count": 20,
   "id": "f6299367",
   "metadata": {},
   "outputs": [
    {
     "data": {
      "text/plain": [
       "['PassengerId',\n",
       " 'Cabin',\n",
       " 'VIP',\n",
       " 'RoomService',\n",
       " 'FoodCourt',\n",
       " 'ShoppingMall',\n",
       " 'Spa',\n",
       " 'VRDeck',\n",
       " 'Name',\n",
       " 'HomePlanet',\n",
       " 'Age',\n",
       " 'Transported',\n",
       " 'Destination',\n",
       " 'CryoSleep']"
      ]
     },
     "execution_count": 20,
     "metadata": {},
     "output_type": "execute_result"
    }
   ],
   "source": [
    "# Check columns\n",
    "columns = list(df.columns)\n",
    "columns"
   ]
  },
  {
   "cell_type": "code",
   "execution_count": 21,
   "id": "2631128d",
   "metadata": {},
   "outputs": [
    {
     "data": {
      "text/plain": [
       "PassengerId       0\n",
       "Cabin           199\n",
       "VIP             203\n",
       "RoomService     181\n",
       "FoodCourt       183\n",
       "ShoppingMall    208\n",
       "Spa             183\n",
       "VRDeck          188\n",
       "Name            200\n",
       "HomePlanet      201\n",
       "Age             179\n",
       "Transported       0\n",
       "Destination     182\n",
       "CryoSleep       217\n",
       "dtype: int64"
      ]
     },
     "execution_count": 21,
     "metadata": {},
     "output_type": "execute_result"
    }
   ],
   "source": [
    "df.isnull().sum()"
   ]
  },
  {
   "cell_type": "markdown",
   "id": "152ad5ac",
   "metadata": {},
   "source": [
    "# Data Munging"
   ]
  },
  {
   "cell_type": "code",
   "execution_count": 22,
   "id": "76a53911",
   "metadata": {},
   "outputs": [
    {
     "data": {
      "text/plain": [
       "'\\n1) Check for missing values in all columns\\n1.5) Consider Imputation\\n2) remove unnecessary columns such as PassengerId and Name\\n3) Convert categorical variables into indicator variables for HomePlanet, CryoSleep, Deck, Side, Destination, VIP, Transported\\n4) Split up Cabin column into three different features\\n'"
      ]
     },
     "execution_count": 22,
     "metadata": {},
     "output_type": "execute_result"
    }
   ],
   "source": [
    "# Make plans\n",
    "'''\n",
    "1) Check for missing values in all columns\n",
    "1.5) Consider Imputation\n",
    "2) remove unnecessary columns such as PassengerId and Name\n",
    "3) Convert categorical variables into indicator variables for HomePlanet, CryoSleep, Deck, Side, Destination, VIP, Transported\n",
    "4) Split up Cabin column into three different features\n",
    "'''"
   ]
  },
  {
   "cell_type": "code",
   "execution_count": 23,
   "id": "203cea20",
   "metadata": {},
   "outputs": [
    {
     "name": "stdout",
     "output_type": "stream",
     "text": [
      "  PassengerId HomePlanet CryoSleep Deck RoomNum Side  Destination   Age  \\\n",
      "0     4446_05     Europa      None    B     175    S  TRAPPIST-1e  33.0   \n",
      "1     8906_01      Earth     False    F    1723    S  55 Cancri e  19.0   \n",
      "4     0008_02     Europa      True    B       1    P  TRAPPIST-1e  34.0   \n",
      "5     0014_01       Mars     False    F       3    P  55 Cancri e  27.0   \n",
      "6     0020_03      Earth      True    E       0    S  55 Cancri e  29.0   \n",
      "\n",
      "     VIP  RoomService  FoodCourt  ShoppingMall  Spa  VRDeck  \\\n",
      "0  False          0.0     4017.0           NaN  NaN  2260.0   \n",
      "1  False        720.0        2.0           NaN  NaN     0.0   \n",
      "4  False          0.0        0.0           NaN  0.0     0.0   \n",
      "5  False       1286.0      122.0           NaN  0.0     0.0   \n",
      "6  False          0.0        0.0           NaN  0.0     0.0   \n",
      "\n",
      "                 Name Transported  \n",
      "0      Phah Chocaters        True  \n",
      "1        Rena Gainney       False  \n",
      "4      Altardr Flatic        True  \n",
      "5         Flats Eccle       False  \n",
      "6  Mollen Mcfaddennon       False  \n"
     ]
    }
   ],
   "source": [
    "# Split Cabin column in three different Columns\n",
    "df[['Deck','RoomNum','Side']] = df.Cabin.str.split(\"/\", expand = True)\n",
    "del df['Cabin']\n",
    "\n",
    "# Reorder dataset to make me happy\n",
    "df = df[['PassengerId',\n",
    " 'HomePlanet',\n",
    " 'CryoSleep',\n",
    " 'Deck',\n",
    " 'RoomNum',\n",
    " 'Side',\n",
    " 'Destination',\n",
    " 'Age',\n",
    " 'VIP',\n",
    " 'RoomService',\n",
    " 'FoodCourt',\n",
    " 'ShoppingMall',\n",
    " 'Spa',\n",
    " 'VRDeck',\n",
    " 'Name',\n",
    " 'Transported']]\n",
    "\n",
    "# Check to see everything is going to plan\n",
    "print(df.head())"
   ]
  },
  {
   "cell_type": "code",
   "execution_count": 24,
   "id": "13f588f7",
   "metadata": {},
   "outputs": [],
   "source": [
    "# Drop unnecessary columns\n",
    "del df['PassengerId']\n",
    "del df['Name']"
   ]
  },
  {
   "cell_type": "code",
   "execution_count": 25,
   "id": "dc8c575f",
   "metadata": {},
   "outputs": [
    {
     "data": {
      "text/plain": [
       "['HomePlanet',\n",
       " 'CryoSleep',\n",
       " 'Deck',\n",
       " 'RoomNum',\n",
       " 'Side',\n",
       " 'Destination',\n",
       " 'Age',\n",
       " 'VIP',\n",
       " 'RoomService',\n",
       " 'FoodCourt',\n",
       " 'ShoppingMall',\n",
       " 'Spa',\n",
       " 'VRDeck',\n",
       " 'Transported']"
      ]
     },
     "execution_count": 25,
     "metadata": {},
     "output_type": "execute_result"
    }
   ],
   "source": [
    "# Check drops\n",
    "columns = list(df.columns)\n",
    "columns"
   ]
  },
  {
   "cell_type": "code",
   "execution_count": 26,
   "id": "825d3ba7",
   "metadata": {},
   "outputs": [
    {
     "name": "stdout",
     "output_type": "stream",
     "text": [
      "Missing values distribution: \n",
      "HomePlanet      0.023122\n",
      "CryoSleep       0.024963\n",
      "Deck            0.022892\n",
      "RoomNum         0.022892\n",
      "Side            0.022892\n",
      "Destination     0.020936\n",
      "Age             0.020591\n",
      "VIP             0.023352\n",
      "RoomService     0.020821\n",
      "FoodCourt       0.021051\n",
      "ShoppingMall    0.023927\n",
      "Spa             0.021051\n",
      "VRDeck          0.021627\n",
      "Transported     0.000000\n",
      "dtype: float64\n"
     ]
    }
   ],
   "source": [
    "# examining missing values\n",
    "print(\"Missing values distribution: \")\n",
    "print(df.isnull().mean())"
   ]
  },
  {
   "cell_type": "code",
   "execution_count": 27,
   "id": "5e263d00",
   "metadata": {},
   "outputs": [
    {
     "name": "stdout",
     "output_type": "stream",
     "text": [
      "Column datatypes: \n",
      "HomePlanet       object\n",
      "CryoSleep        object\n",
      "Deck             object\n",
      "RoomNum          object\n",
      "Side             object\n",
      "Destination      object\n",
      "Age             float64\n",
      "VIP              object\n",
      "RoomService     float64\n",
      "FoodCourt       float64\n",
      "ShoppingMall    float64\n",
      "Spa             float64\n",
      "VRDeck          float64\n",
      "Transported      object\n",
      "dtype: object\n"
     ]
    }
   ],
   "source": [
    "# check datatype in each column\n",
    "print(\"Column datatypes: \")\n",
    "print(df.dtypes)"
   ]
  },
  {
   "cell_type": "code",
   "execution_count": 28,
   "id": "be43f575",
   "metadata": {},
   "outputs": [],
   "source": [
    "df2 = df.copy()  "
   ]
  },
  {
   "cell_type": "code",
   "execution_count": 29,
   "id": "40d40fe3",
   "metadata": {},
   "outputs": [],
   "source": [
    "#df2['Transported'] = df2['Transported'].map({'True': True, 'False': False}) \n",
    "df2['Transported'] = df2['Transported'].astype(dtype = 'bool', errors = 'ignore')"
   ]
  },
  {
   "cell_type": "code",
   "execution_count": 30,
   "id": "c9373920",
   "metadata": {},
   "outputs": [
    {
     "name": "stdout",
     "output_type": "stream",
     "text": [
      "HomePlanet ['Europa' 'Earth' 'Mars' None]\n",
      "CryoSleep [None False True]\n",
      "Deck ['B' 'F' 'E' 'C' 'G' 'D' None 'A' 'T']\n",
      "Side ['S' 'P' None]\n",
      "Destination ['TRAPPIST-1e' '55 Cancri e' 'PSO J318.5-22' None]\n",
      "VIP [False True None]\n",
      "Transported [True False]\n"
     ]
    }
   ],
   "source": [
    "# Exploring the data\n",
    "print('HomePlanet', df[\"HomePlanet\"].unique())\n",
    "print('CryoSleep', df[\"CryoSleep\"].unique())\n",
    "print('Deck', df[\"Deck\"].unique())\n",
    "print('Side', df[\"Side\"].unique())\n",
    "print('Destination', df[\"Destination\"].unique())\n",
    "print('VIP', df[\"VIP\"].unique())\n",
    "print('Transported', df[\"Transported\"].unique())"
   ]
  },
  {
   "cell_type": "code",
   "execution_count": 31,
   "id": "315f2371",
   "metadata": {},
   "outputs": [
    {
     "data": {
      "text/plain": [
       "HomePlanet      201\n",
       "CryoSleep       217\n",
       "Deck            199\n",
       "RoomNum         199\n",
       "Side            199\n",
       "Destination     182\n",
       "Age             179\n",
       "VIP             203\n",
       "RoomService     181\n",
       "FoodCourt       183\n",
       "ShoppingMall    208\n",
       "Spa             183\n",
       "VRDeck          188\n",
       "Transported       0\n",
       "dtype: int64"
      ]
     },
     "execution_count": 31,
     "metadata": {},
     "output_type": "execute_result"
    }
   ],
   "source": [
    "df.isnull().sum()"
   ]
  },
  {
   "cell_type": "code",
   "execution_count": 32,
   "id": "a47bf44f",
   "metadata": {},
   "outputs": [
    {
     "data": {
      "text/plain": [
       "(8693, 14)"
      ]
     },
     "execution_count": 32,
     "metadata": {},
     "output_type": "execute_result"
    }
   ],
   "source": [
    "df.shape"
   ]
  },
  {
   "cell_type": "code",
   "execution_count": 33,
   "id": "b8750a19",
   "metadata": {},
   "outputs": [
    {
     "data": {
      "text/plain": [
       "True     4378\n",
       "False    4315\n",
       "Name: Transported, dtype: int64"
      ]
     },
     "execution_count": 33,
     "metadata": {},
     "output_type": "execute_result"
    }
   ],
   "source": [
    "df[\"Transported\"].value_counts()"
   ]
  },
  {
   "cell_type": "markdown",
   "id": "ddda51df",
   "metadata": {},
   "source": [
    "# Nan Values"
   ]
  },
  {
   "cell_type": "code",
   "execution_count": 34,
   "id": "ee482c34",
   "metadata": {},
   "outputs": [
    {
     "data": {
      "text/html": [
       "<div>\n",
       "<style scoped>\n",
       "    .dataframe tbody tr th:only-of-type {\n",
       "        vertical-align: middle;\n",
       "    }\n",
       "\n",
       "    .dataframe tbody tr th {\n",
       "        vertical-align: top;\n",
       "    }\n",
       "\n",
       "    .dataframe thead th {\n",
       "        text-align: right;\n",
       "    }\n",
       "</style>\n",
       "<table border=\"1\" class=\"dataframe\">\n",
       "  <thead>\n",
       "    <tr style=\"text-align: right;\">\n",
       "      <th></th>\n",
       "      <th>HomePlanet</th>\n",
       "      <th>CryoSleep</th>\n",
       "      <th>Deck</th>\n",
       "      <th>RoomNum</th>\n",
       "      <th>Side</th>\n",
       "      <th>Destination</th>\n",
       "      <th>Age</th>\n",
       "      <th>VIP</th>\n",
       "      <th>RoomService</th>\n",
       "      <th>FoodCourt</th>\n",
       "      <th>ShoppingMall</th>\n",
       "      <th>Spa</th>\n",
       "      <th>VRDeck</th>\n",
       "      <th>Transported</th>\n",
       "    </tr>\n",
       "  </thead>\n",
       "  <tbody>\n",
       "    <tr>\n",
       "      <th>495</th>\n",
       "      <td>Europa</td>\n",
       "      <td>False</td>\n",
       "      <td>B</td>\n",
       "      <td>0</td>\n",
       "      <td>P</td>\n",
       "      <td>TRAPPIST-1e</td>\n",
       "      <td>39.0</td>\n",
       "      <td>False</td>\n",
       "      <td>0.0</td>\n",
       "      <td>0.0</td>\n",
       "      <td>0.0</td>\n",
       "      <td>0.0</td>\n",
       "      <td>0.0</td>\n",
       "      <td>False</td>\n",
       "    </tr>\n",
       "    <tr>\n",
       "      <th>497</th>\n",
       "      <td>Europa</td>\n",
       "      <td>True</td>\n",
       "      <td>B</td>\n",
       "      <td>1</td>\n",
       "      <td>P</td>\n",
       "      <td>55 Cancri e</td>\n",
       "      <td>14.0</td>\n",
       "      <td>False</td>\n",
       "      <td>0.0</td>\n",
       "      <td>0.0</td>\n",
       "      <td>0.0</td>\n",
       "      <td>0.0</td>\n",
       "      <td>0.0</td>\n",
       "      <td>True</td>\n",
       "    </tr>\n",
       "    <tr>\n",
       "      <th>498</th>\n",
       "      <td>Earth</td>\n",
       "      <td>False</td>\n",
       "      <td>F</td>\n",
       "      <td>4</td>\n",
       "      <td>P</td>\n",
       "      <td>55 Cancri e</td>\n",
       "      <td>24.0</td>\n",
       "      <td>False</td>\n",
       "      <td>0.0</td>\n",
       "      <td>1.0</td>\n",
       "      <td>0.0</td>\n",
       "      <td>0.0</td>\n",
       "      <td>637.0</td>\n",
       "      <td>False</td>\n",
       "    </tr>\n",
       "    <tr>\n",
       "      <th>499</th>\n",
       "      <td>Mars</td>\n",
       "      <td>True</td>\n",
       "      <td>F</td>\n",
       "      <td>5</td>\n",
       "      <td>P</td>\n",
       "      <td>TRAPPIST-1e</td>\n",
       "      <td>45.0</td>\n",
       "      <td>False</td>\n",
       "      <td>0.0</td>\n",
       "      <td>0.0</td>\n",
       "      <td>0.0</td>\n",
       "      <td>0.0</td>\n",
       "      <td>0.0</td>\n",
       "      <td>True</td>\n",
       "    </tr>\n",
       "    <tr>\n",
       "      <th>500</th>\n",
       "      <td>Earth</td>\n",
       "      <td>False</td>\n",
       "      <td>G</td>\n",
       "      <td>0</td>\n",
       "      <td>P</td>\n",
       "      <td>TRAPPIST-1e</td>\n",
       "      <td>0.0</td>\n",
       "      <td>False</td>\n",
       "      <td>0.0</td>\n",
       "      <td>0.0</td>\n",
       "      <td>0.0</td>\n",
       "      <td>0.0</td>\n",
       "      <td>0.0</td>\n",
       "      <td>True</td>\n",
       "    </tr>\n",
       "    <tr>\n",
       "      <th>...</th>\n",
       "      <td>...</td>\n",
       "      <td>...</td>\n",
       "      <td>...</td>\n",
       "      <td>...</td>\n",
       "      <td>...</td>\n",
       "      <td>...</td>\n",
       "      <td>...</td>\n",
       "      <td>...</td>\n",
       "      <td>...</td>\n",
       "      <td>...</td>\n",
       "      <td>...</td>\n",
       "      <td>...</td>\n",
       "      <td>...</td>\n",
       "      <td>...</td>\n",
       "    </tr>\n",
       "    <tr>\n",
       "      <th>12964</th>\n",
       "      <td>Europa</td>\n",
       "      <td>False</td>\n",
       "      <td>E</td>\n",
       "      <td>315</td>\n",
       "      <td>P</td>\n",
       "      <td>TRAPPIST-1e</td>\n",
       "      <td>32.0</td>\n",
       "      <td>False</td>\n",
       "      <td>8151.0</td>\n",
       "      <td>2052.0</td>\n",
       "      <td>1919.0</td>\n",
       "      <td>7352.0</td>\n",
       "      <td>754.0</td>\n",
       "      <td>False</td>\n",
       "    </tr>\n",
       "    <tr>\n",
       "      <th>12965</th>\n",
       "      <td>Mars</td>\n",
       "      <td>False</td>\n",
       "      <td>F</td>\n",
       "      <td>465</td>\n",
       "      <td>P</td>\n",
       "      <td>TRAPPIST-1e</td>\n",
       "      <td>37.0</td>\n",
       "      <td>False</td>\n",
       "      <td>20.0</td>\n",
       "      <td>0.0</td>\n",
       "      <td>2559.0</td>\n",
       "      <td>20.0</td>\n",
       "      <td>0.0</td>\n",
       "      <td>True</td>\n",
       "    </tr>\n",
       "    <tr>\n",
       "      <th>12966</th>\n",
       "      <td>Earth</td>\n",
       "      <td>False</td>\n",
       "      <td>F</td>\n",
       "      <td>739</td>\n",
       "      <td>P</td>\n",
       "      <td>TRAPPIST-1e</td>\n",
       "      <td>20.0</td>\n",
       "      <td>False</td>\n",
       "      <td>0.0</td>\n",
       "      <td>0.0</td>\n",
       "      <td>2687.0</td>\n",
       "      <td>35.0</td>\n",
       "      <td>340.0</td>\n",
       "      <td>False</td>\n",
       "    </tr>\n",
       "    <tr>\n",
       "      <th>12968</th>\n",
       "      <td>Europa</td>\n",
       "      <td>False</td>\n",
       "      <td>C</td>\n",
       "      <td>257</td>\n",
       "      <td>P</td>\n",
       "      <td>TRAPPIST-1e</td>\n",
       "      <td>41.0</td>\n",
       "      <td>False</td>\n",
       "      <td>0.0</td>\n",
       "      <td>116.0</td>\n",
       "      <td>10705.0</td>\n",
       "      <td>9181.0</td>\n",
       "      <td>10.0</td>\n",
       "      <td>False</td>\n",
       "    </tr>\n",
       "    <tr>\n",
       "      <th>12969</th>\n",
       "      <td>Europa</td>\n",
       "      <td>False</td>\n",
       "      <td>B</td>\n",
       "      <td>254</td>\n",
       "      <td>S</td>\n",
       "      <td>TRAPPIST-1e</td>\n",
       "      <td>13.0</td>\n",
       "      <td>False</td>\n",
       "      <td>0.0</td>\n",
       "      <td>100.0</td>\n",
       "      <td>12253.0</td>\n",
       "      <td>6.0</td>\n",
       "      <td>80.0</td>\n",
       "      <td>True</td>\n",
       "    </tr>\n",
       "  </tbody>\n",
       "</table>\n",
       "<p>6764 rows × 14 columns</p>\n",
       "</div>"
      ],
      "text/plain": [
       "      HomePlanet CryoSleep Deck RoomNum Side  Destination   Age    VIP  \\\n",
       "495       Europa     False    B       0    P  TRAPPIST-1e  39.0  False   \n",
       "497       Europa      True    B       1    P  55 Cancri e  14.0  False   \n",
       "498        Earth     False    F       4    P  55 Cancri e  24.0  False   \n",
       "499         Mars      True    F       5    P  TRAPPIST-1e  45.0  False   \n",
       "500        Earth     False    G       0    P  TRAPPIST-1e   0.0  False   \n",
       "...          ...       ...  ...     ...  ...          ...   ...    ...   \n",
       "12964     Europa     False    E     315    P  TRAPPIST-1e  32.0  False   \n",
       "12965       Mars     False    F     465    P  TRAPPIST-1e  37.0  False   \n",
       "12966      Earth     False    F     739    P  TRAPPIST-1e  20.0  False   \n",
       "12968     Europa     False    C     257    P  TRAPPIST-1e  41.0  False   \n",
       "12969     Europa     False    B     254    S  TRAPPIST-1e  13.0  False   \n",
       "\n",
       "       RoomService  FoodCourt  ShoppingMall     Spa  VRDeck Transported  \n",
       "495            0.0        0.0           0.0     0.0     0.0       False  \n",
       "497            0.0        0.0           0.0     0.0     0.0        True  \n",
       "498            0.0        1.0           0.0     0.0   637.0       False  \n",
       "499            0.0        0.0           0.0     0.0     0.0        True  \n",
       "500            0.0        0.0           0.0     0.0     0.0        True  \n",
       "...            ...        ...           ...     ...     ...         ...  \n",
       "12964       8151.0     2052.0        1919.0  7352.0   754.0       False  \n",
       "12965         20.0        0.0        2559.0    20.0     0.0        True  \n",
       "12966          0.0        0.0        2687.0    35.0   340.0       False  \n",
       "12968          0.0      116.0       10705.0  9181.0    10.0       False  \n",
       "12969          0.0      100.0       12253.0     6.0    80.0        True  \n",
       "\n",
       "[6764 rows x 14 columns]"
      ]
     },
     "execution_count": 34,
     "metadata": {},
     "output_type": "execute_result"
    }
   ],
   "source": [
    "df_clean = df.dropna()\n",
    "df_clean"
   ]
  },
  {
   "cell_type": "code",
   "execution_count": 35,
   "id": "9827cd99",
   "metadata": {},
   "outputs": [],
   "source": [
    "compression_opts = dict(method='zip',\n",
    "                        archive_name='titanic.csv')  \n",
    "df.to_csv('titanic.zip', index=False,\n",
    "          compression=compression_opts)  "
   ]
  },
  {
   "cell_type": "markdown",
   "id": "f47d81c4",
   "metadata": {},
   "source": [
    "# Random Forest Model"
   ]
  },
  {
   "cell_type": "code",
   "execution_count": 36,
   "id": "aef6068e",
   "metadata": {},
   "outputs": [
    {
     "data": {
      "text/html": [
       "<div>\n",
       "<style scoped>\n",
       "    .dataframe tbody tr th:only-of-type {\n",
       "        vertical-align: middle;\n",
       "    }\n",
       "\n",
       "    .dataframe tbody tr th {\n",
       "        vertical-align: top;\n",
       "    }\n",
       "\n",
       "    .dataframe thead th {\n",
       "        text-align: right;\n",
       "    }\n",
       "</style>\n",
       "<table border=\"1\" class=\"dataframe\">\n",
       "  <thead>\n",
       "    <tr style=\"text-align: right;\">\n",
       "      <th></th>\n",
       "      <th>HomePlanet</th>\n",
       "      <th>CryoSleep</th>\n",
       "      <th>Deck</th>\n",
       "      <th>RoomNum</th>\n",
       "      <th>Side</th>\n",
       "      <th>Destination</th>\n",
       "      <th>Age</th>\n",
       "      <th>VIP</th>\n",
       "      <th>RoomService</th>\n",
       "      <th>FoodCourt</th>\n",
       "      <th>ShoppingMall</th>\n",
       "      <th>Spa</th>\n",
       "      <th>VRDeck</th>\n",
       "    </tr>\n",
       "  </thead>\n",
       "  <tbody>\n",
       "    <tr>\n",
       "      <th>495</th>\n",
       "      <td>Europa</td>\n",
       "      <td>False</td>\n",
       "      <td>B</td>\n",
       "      <td>0</td>\n",
       "      <td>P</td>\n",
       "      <td>TRAPPIST-1e</td>\n",
       "      <td>39.0</td>\n",
       "      <td>False</td>\n",
       "      <td>0.0</td>\n",
       "      <td>0.0</td>\n",
       "      <td>0.0</td>\n",
       "      <td>0.0</td>\n",
       "      <td>0.0</td>\n",
       "    </tr>\n",
       "    <tr>\n",
       "      <th>497</th>\n",
       "      <td>Europa</td>\n",
       "      <td>True</td>\n",
       "      <td>B</td>\n",
       "      <td>1</td>\n",
       "      <td>P</td>\n",
       "      <td>55 Cancri e</td>\n",
       "      <td>14.0</td>\n",
       "      <td>False</td>\n",
       "      <td>0.0</td>\n",
       "      <td>0.0</td>\n",
       "      <td>0.0</td>\n",
       "      <td>0.0</td>\n",
       "      <td>0.0</td>\n",
       "    </tr>\n",
       "    <tr>\n",
       "      <th>498</th>\n",
       "      <td>Earth</td>\n",
       "      <td>False</td>\n",
       "      <td>F</td>\n",
       "      <td>4</td>\n",
       "      <td>P</td>\n",
       "      <td>55 Cancri e</td>\n",
       "      <td>24.0</td>\n",
       "      <td>False</td>\n",
       "      <td>0.0</td>\n",
       "      <td>1.0</td>\n",
       "      <td>0.0</td>\n",
       "      <td>0.0</td>\n",
       "      <td>637.0</td>\n",
       "    </tr>\n",
       "    <tr>\n",
       "      <th>499</th>\n",
       "      <td>Mars</td>\n",
       "      <td>True</td>\n",
       "      <td>F</td>\n",
       "      <td>5</td>\n",
       "      <td>P</td>\n",
       "      <td>TRAPPIST-1e</td>\n",
       "      <td>45.0</td>\n",
       "      <td>False</td>\n",
       "      <td>0.0</td>\n",
       "      <td>0.0</td>\n",
       "      <td>0.0</td>\n",
       "      <td>0.0</td>\n",
       "      <td>0.0</td>\n",
       "    </tr>\n",
       "    <tr>\n",
       "      <th>500</th>\n",
       "      <td>Earth</td>\n",
       "      <td>False</td>\n",
       "      <td>G</td>\n",
       "      <td>0</td>\n",
       "      <td>P</td>\n",
       "      <td>TRAPPIST-1e</td>\n",
       "      <td>0.0</td>\n",
       "      <td>False</td>\n",
       "      <td>0.0</td>\n",
       "      <td>0.0</td>\n",
       "      <td>0.0</td>\n",
       "      <td>0.0</td>\n",
       "      <td>0.0</td>\n",
       "    </tr>\n",
       "  </tbody>\n",
       "</table>\n",
       "</div>"
      ],
      "text/plain": [
       "    HomePlanet CryoSleep Deck RoomNum Side  Destination   Age    VIP  \\\n",
       "495     Europa     False    B       0    P  TRAPPIST-1e  39.0  False   \n",
       "497     Europa      True    B       1    P  55 Cancri e  14.0  False   \n",
       "498      Earth     False    F       4    P  55 Cancri e  24.0  False   \n",
       "499       Mars      True    F       5    P  TRAPPIST-1e  45.0  False   \n",
       "500      Earth     False    G       0    P  TRAPPIST-1e   0.0  False   \n",
       "\n",
       "     RoomService  FoodCourt  ShoppingMall  Spa  VRDeck  \n",
       "495          0.0        0.0           0.0  0.0     0.0  \n",
       "497          0.0        0.0           0.0  0.0     0.0  \n",
       "498          0.0        1.0           0.0  0.0   637.0  \n",
       "499          0.0        0.0           0.0  0.0     0.0  \n",
       "500          0.0        0.0           0.0  0.0     0.0  "
      ]
     },
     "execution_count": 36,
     "metadata": {},
     "output_type": "execute_result"
    }
   ],
   "source": [
    "# Define features set\n",
    "X = df_clean.copy()\n",
    "X.drop(\"Transported\", axis=1, inplace=True)\n",
    "X.head()"
   ]
  },
  {
   "cell_type": "code",
   "execution_count": 37,
   "id": "506b9d7a",
   "metadata": {},
   "outputs": [
    {
     "data": {
      "text/plain": [
       "array([[False],\n",
       "       [True],\n",
       "       [False],\n",
       "       [True],\n",
       "       [True]], dtype=object)"
      ]
     },
     "execution_count": 37,
     "metadata": {},
     "output_type": "execute_result"
    }
   ],
   "source": [
    "# Define target vector\n",
    "y = df_clean[\"Transported\"].values.reshape(-1, 1)\n",
    "y[:5]"
   ]
  },
  {
   "cell_type": "code",
   "execution_count": 38,
   "id": "49f072c7",
   "metadata": {},
   "outputs": [],
   "source": [
    "# Dummy Categorical Variables\n",
    "X = pd.get_dummies(X)"
   ]
  },
  {
   "cell_type": "code",
   "execution_count": 39,
   "id": "c2e033f0",
   "metadata": {},
   "outputs": [],
   "source": [
    "# Splitting into Train and Test sets\n",
    "X_train, X_test, y_train, y_test = train_test_split(X, y, random_state=78)"
   ]
  },
  {
   "cell_type": "code",
   "execution_count": 40,
   "id": "a88eb8b9",
   "metadata": {},
   "outputs": [],
   "source": [
    "# Create the StandardScaler instance\n",
    "scaler = StandardScaler()"
   ]
  },
  {
   "cell_type": "code",
   "execution_count": 41,
   "id": "66410498",
   "metadata": {},
   "outputs": [],
   "source": [
    "# Fit the Standard Scaler with the training data\n",
    "X_scaler = scaler.fit(X_train)"
   ]
  },
  {
   "cell_type": "code",
   "execution_count": 42,
   "id": "51234ef5",
   "metadata": {},
   "outputs": [],
   "source": [
    "# Scale the training data\n",
    "X_train_scaled = X_scaler.transform(X_train)\n",
    "X_test_scaled = X_scaler.transform(X_test)"
   ]
  },
  {
   "cell_type": "code",
   "execution_count": 43,
   "id": "1c6260eb",
   "metadata": {},
   "outputs": [],
   "source": [
    "# Create the random forest classifier instance\n",
    "rf_model = RandomForestClassifier(n_estimators=500, random_state=78)"
   ]
  },
  {
   "cell_type": "code",
   "execution_count": 44,
   "id": "f9f45374",
   "metadata": {},
   "outputs": [
    {
     "name": "stderr",
     "output_type": "stream",
     "text": [
      "/opt/anaconda3/envs/PythonData/lib/python3.7/site-packages/ipykernel_launcher.py:2: DataConversionWarning: A column-vector y was passed when a 1d array was expected. Please change the shape of y to (n_samples,), for example using ravel().\n",
      "  \n"
     ]
    },
    {
     "ename": "ValueError",
     "evalue": "Unknown label type: 'unknown'",
     "output_type": "error",
     "traceback": [
      "\u001b[0;31m---------------------------------------------------------------------------\u001b[0m",
      "\u001b[0;31mValueError\u001b[0m                                Traceback (most recent call last)",
      "\u001b[0;32m/var/folders/rx/xwsrc7px18j3lpyjx_3ywq440000gp/T/ipykernel_25607/1767149486.py\u001b[0m in \u001b[0;36m<module>\u001b[0;34m\u001b[0m\n\u001b[1;32m      1\u001b[0m \u001b[0;31m# Fit the model and use .ravel()on the \"y_train\" data.\u001b[0m\u001b[0;34m\u001b[0m\u001b[0;34m\u001b[0m\u001b[0;34m\u001b[0m\u001b[0m\n\u001b[0;32m----> 2\u001b[0;31m \u001b[0mrf_model\u001b[0m \u001b[0;34m=\u001b[0m \u001b[0mrf_model\u001b[0m\u001b[0;34m.\u001b[0m\u001b[0mfit\u001b[0m\u001b[0;34m(\u001b[0m\u001b[0mX_train\u001b[0m\u001b[0;34m,\u001b[0m \u001b[0my_train\u001b[0m\u001b[0;34m)\u001b[0m\u001b[0;34m\u001b[0m\u001b[0;34m\u001b[0m\u001b[0m\n\u001b[0m",
      "\u001b[0;32m/opt/anaconda3/envs/PythonData/lib/python3.7/site-packages/sklearn/ensemble/_forest.py\u001b[0m in \u001b[0;36mfit\u001b[0;34m(self, X, y, sample_weight)\u001b[0m\n\u001b[1;32m    365\u001b[0m         \u001b[0mself\u001b[0m\u001b[0;34m.\u001b[0m\u001b[0mn_outputs_\u001b[0m \u001b[0;34m=\u001b[0m \u001b[0my\u001b[0m\u001b[0;34m.\u001b[0m\u001b[0mshape\u001b[0m\u001b[0;34m[\u001b[0m\u001b[0;36m1\u001b[0m\u001b[0;34m]\u001b[0m\u001b[0;34m\u001b[0m\u001b[0;34m\u001b[0m\u001b[0m\n\u001b[1;32m    366\u001b[0m \u001b[0;34m\u001b[0m\u001b[0m\n\u001b[0;32m--> 367\u001b[0;31m         \u001b[0my\u001b[0m\u001b[0;34m,\u001b[0m \u001b[0mexpanded_class_weight\u001b[0m \u001b[0;34m=\u001b[0m \u001b[0mself\u001b[0m\u001b[0;34m.\u001b[0m\u001b[0m_validate_y_class_weight\u001b[0m\u001b[0;34m(\u001b[0m\u001b[0my\u001b[0m\u001b[0;34m)\u001b[0m\u001b[0;34m\u001b[0m\u001b[0;34m\u001b[0m\u001b[0m\n\u001b[0m\u001b[1;32m    368\u001b[0m \u001b[0;34m\u001b[0m\u001b[0m\n\u001b[1;32m    369\u001b[0m         \u001b[0;32mif\u001b[0m \u001b[0mgetattr\u001b[0m\u001b[0;34m(\u001b[0m\u001b[0my\u001b[0m\u001b[0;34m,\u001b[0m \u001b[0;34m\"dtype\"\u001b[0m\u001b[0;34m,\u001b[0m \u001b[0;32mNone\u001b[0m\u001b[0;34m)\u001b[0m \u001b[0;34m!=\u001b[0m \u001b[0mDOUBLE\u001b[0m \u001b[0;32mor\u001b[0m \u001b[0;32mnot\u001b[0m \u001b[0my\u001b[0m\u001b[0;34m.\u001b[0m\u001b[0mflags\u001b[0m\u001b[0;34m.\u001b[0m\u001b[0mcontiguous\u001b[0m\u001b[0;34m:\u001b[0m\u001b[0;34m\u001b[0m\u001b[0;34m\u001b[0m\u001b[0m\n",
      "\u001b[0;32m/opt/anaconda3/envs/PythonData/lib/python3.7/site-packages/sklearn/ensemble/_forest.py\u001b[0m in \u001b[0;36m_validate_y_class_weight\u001b[0;34m(self, y)\u001b[0m\n\u001b[1;32m    732\u001b[0m \u001b[0;34m\u001b[0m\u001b[0m\n\u001b[1;32m    733\u001b[0m     \u001b[0;32mdef\u001b[0m \u001b[0m_validate_y_class_weight\u001b[0m\u001b[0;34m(\u001b[0m\u001b[0mself\u001b[0m\u001b[0;34m,\u001b[0m \u001b[0my\u001b[0m\u001b[0;34m)\u001b[0m\u001b[0;34m:\u001b[0m\u001b[0;34m\u001b[0m\u001b[0;34m\u001b[0m\u001b[0m\n\u001b[0;32m--> 734\u001b[0;31m         \u001b[0mcheck_classification_targets\u001b[0m\u001b[0;34m(\u001b[0m\u001b[0my\u001b[0m\u001b[0;34m)\u001b[0m\u001b[0;34m\u001b[0m\u001b[0;34m\u001b[0m\u001b[0m\n\u001b[0m\u001b[1;32m    735\u001b[0m \u001b[0;34m\u001b[0m\u001b[0m\n\u001b[1;32m    736\u001b[0m         \u001b[0my\u001b[0m \u001b[0;34m=\u001b[0m \u001b[0mnp\u001b[0m\u001b[0;34m.\u001b[0m\u001b[0mcopy\u001b[0m\u001b[0;34m(\u001b[0m\u001b[0my\u001b[0m\u001b[0;34m)\u001b[0m\u001b[0;34m\u001b[0m\u001b[0;34m\u001b[0m\u001b[0m\n",
      "\u001b[0;32m/opt/anaconda3/envs/PythonData/lib/python3.7/site-packages/sklearn/utils/multiclass.py\u001b[0m in \u001b[0;36mcheck_classification_targets\u001b[0;34m(y)\u001b[0m\n\u001b[1;32m    195\u001b[0m         \u001b[0;34m\"multilabel-sequences\"\u001b[0m\u001b[0;34m,\u001b[0m\u001b[0;34m\u001b[0m\u001b[0;34m\u001b[0m\u001b[0m\n\u001b[1;32m    196\u001b[0m     ]:\n\u001b[0;32m--> 197\u001b[0;31m         \u001b[0;32mraise\u001b[0m \u001b[0mValueError\u001b[0m\u001b[0;34m(\u001b[0m\u001b[0;34m\"Unknown label type: %r\"\u001b[0m \u001b[0;34m%\u001b[0m \u001b[0my_type\u001b[0m\u001b[0;34m)\u001b[0m\u001b[0;34m\u001b[0m\u001b[0;34m\u001b[0m\u001b[0m\n\u001b[0m\u001b[1;32m    198\u001b[0m \u001b[0;34m\u001b[0m\u001b[0m\n\u001b[1;32m    199\u001b[0m \u001b[0;34m\u001b[0m\u001b[0m\n",
      "\u001b[0;31mValueError\u001b[0m: Unknown label type: 'unknown'"
     ]
    }
   ],
   "source": [
    "# Fit the model and use .ravel()on the \"y_train\" data. \n",
    "rf_model = rf_model.fit(X_train, y_train)"
   ]
  },
  {
   "cell_type": "code",
   "execution_count": null,
   "id": "deae7a0e",
   "metadata": {},
   "outputs": [],
   "source": [
    "# Making predictions using the testing data\n",
    "predictions = rf_model.predict(X_test)"
   ]
  },
  {
   "cell_type": "code",
   "execution_count": null,
   "id": "956eb82b",
   "metadata": {},
   "outputs": [],
   "source": [
    "# Calculating the confusion matrix\n",
    "cm = confusion_matrix(y_test, predictions)\n",
    "cm_df = pd.DataFrame(\n",
    "    cm, index=[\"Actual 0\", \"Actual 1\"], columns=[\"Predicted 0\", \"Predicted 1\"]\n",
    ")\n",
    "\n",
    "# Calculating the accuracy score\n",
    "acc_score = accuracy_score(y_test, predictions)"
   ]
  },
  {
   "cell_type": "code",
   "execution_count": null,
   "id": "0c0f9949",
   "metadata": {},
   "outputs": [],
   "source": [
    "# Displaying results\n",
    "print(\"Confusion Matrix\")\n",
    "display(cm_df)\n",
    "print(f\"Accuracy Score : {acc_score}\")\n",
    "print(\"Classification Report\")\n",
    "print(classification_report(y_test, predictions))"
   ]
  },
  {
   "cell_type": "code",
   "execution_count": null,
   "id": "f743f684",
   "metadata": {},
   "outputs": [],
   "source": [
    "# Get the feature importance array\n",
    "importances = rf_model.feature_importances_\n",
    "# List the top 10 most important features\n",
    "importances_sorted = sorted(zip(rf_model.feature_importances_, X.columns), reverse=True)\n",
    "importances_sorted[:100]"
   ]
  },
  {
   "cell_type": "markdown",
   "id": "254980cd",
   "metadata": {},
   "source": [
    "# Trying Data Imputation"
   ]
  },
  {
   "cell_type": "code",
   "execution_count": null,
   "id": "06cf3ed7",
   "metadata": {},
   "outputs": [],
   "source": [
    "# Impute int values with mean.\n",
    "\n",
    "titanic_df_impute = df.copy()\n",
    "\n",
    "mean_imputer = impute.SimpleImputer(strategy='mean')\n",
    "\n",
    "titanic_df_impute['Age'] = mean_imputer.fit_transform(titanic_df_impute['Age'].values.reshape(-1,1))\n",
    "titanic_df_impute['RoomService'] = mean_imputer.fit_transform(titanic_df_impute['RoomService'].values.reshape(-1,1))\n",
    "titanic_df_impute['FoodCourt'] = mean_imputer.fit_transform(titanic_df_impute['FoodCourt'].values.reshape(-1,1))\n",
    "titanic_df_impute['ShoppingMall'] = mean_imputer.fit_transform(titanic_df_impute['ShoppingMall'].values.reshape(-1,1))\n",
    "titanic_df_impute['Spa'] = mean_imputer.fit_transform(titanic_df_impute['Spa'].values.reshape(-1,1))\n",
    "titanic_df_impute['VRDeck'] = mean_imputer.fit_transform(titanic_df_impute['VRDeck'].values.reshape(-1,1))"
   ]
  },
  {
   "cell_type": "code",
   "execution_count": null,
   "id": "8503e4e9",
   "metadata": {},
   "outputs": [],
   "source": [
    "# Check to see if Mean Imputation was performed\n",
    "titanic_df_impute.isnull().sum()"
   ]
  },
  {
   "cell_type": "code",
   "execution_count": null,
   "id": "3d628144",
   "metadata": {},
   "outputs": [],
   "source": [
    "## Use ffil and fillna to fill object values with the value nearest to it\n",
    "titanic_df_impute['RoomNum'] = titanic_df_impute['RoomNum'].fillna(method='ffill')\n",
    "titanic_df_impute['HomePlanet'] = titanic_df_impute['HomePlanet'].fillna(method='ffill')\n",
    "titanic_df_impute['CryoSleep'] = titanic_df_impute['CryoSleep'].fillna(method='ffill')\n",
    "titanic_df_impute['Deck'] = titanic_df_impute['Deck'].fillna(method='ffill')\n",
    "titanic_df_impute['Side'] = titanic_df_impute['Side'].fillna(method='ffill')\n",
    "titanic_df_impute['VIP'] = titanic_df_impute['VIP'].fillna(method='ffill')\n",
    "titanic_df_impute['Destination'] = titanic_df_impute['Destination'].fillna(method='ffill')"
   ]
  },
  {
   "cell_type": "code",
   "execution_count": null,
   "id": "e3967db7",
   "metadata": {},
   "outputs": [],
   "source": [
    "# Check to see if categorical Imputation was performed\n",
    "titanic_df_impute.isnull().sum()"
   ]
  },
  {
   "cell_type": "code",
   "execution_count": null,
   "id": "ee0d223e",
   "metadata": {},
   "outputs": [],
   "source": [
    "titanic_df_impute"
   ]
  },
  {
   "cell_type": "code",
   "execution_count": null,
   "id": "573e3e82",
   "metadata": {},
   "outputs": [],
   "source": []
  }
 ],
 "metadata": {
  "kernelspec": {
   "display_name": "PythonData",
   "language": "python",
   "name": "pythondata"
  },
  "language_info": {
   "codemirror_mode": {
    "name": "ipython",
    "version": 3
   },
   "file_extension": ".py",
   "mimetype": "text/x-python",
   "name": "python",
   "nbconvert_exporter": "python",
   "pygments_lexer": "ipython3",
   "version": "3.7.15"
  }
 },
 "nbformat": 4,
 "nbformat_minor": 5
}
